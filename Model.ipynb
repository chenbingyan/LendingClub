{
 "cells": [
  {
   "cell_type": "markdown",
   "metadata": {},
   "source": [
    "# 互联网金融风控中的用户贷款欺诈风险发现（基于lending club数据集）2-建模\n"
   ]
  },
  {
   "cell_type": "code",
   "execution_count": 1,
   "metadata": {
    "collapsed": true
   },
   "outputs": [],
   "source": [
    "'''\n",
    "@author: chenbingyan\n",
    "@connect: bjchenbingyan@126.com\n",
    "@site: http://www.intelligentdata.cn/ \n",
    "@date: Feb. 11,2018\n",
    "'''\n",
    "import numpy as np\n",
    "import pandas as pd\n",
    "import random\n",
    "import matplotlib as mpl\n",
    "import matplotlib.pyplot as plt\n",
    "%matplotlib inline\n",
    "import seaborn as sns\n",
    "from sklearn.model_selection import train_test_split\n",
    "from sklearn.model_selection import GridSearchCV\n",
    "from sklearn.preprocessing import OneHotEncoder\n",
    "import xgboost as xgb\n",
    "import warnings\n",
    "warnings.filterwarnings('ignore')"
   ]
  },
  {
   "cell_type": "code",
   "execution_count": 2,
   "metadata": {},
   "outputs": [
    {
     "data": {
      "text/html": [
       "<div>\n",
       "<style>\n",
       "    .dataframe thead tr:only-child th {\n",
       "        text-align: right;\n",
       "    }\n",
       "\n",
       "    .dataframe thead th {\n",
       "        text-align: left;\n",
       "    }\n",
       "\n",
       "    .dataframe tbody tr th {\n",
       "        vertical-align: top;\n",
       "    }\n",
       "</style>\n",
       "<table border=\"1\" class=\"dataframe\">\n",
       "  <thead>\n",
       "    <tr style=\"text-align: right;\">\n",
       "      <th></th>\n",
       "      <th>loan_amnt</th>\n",
       "      <th>int_rate</th>\n",
       "      <th>emp_length</th>\n",
       "      <th>annual_inc</th>\n",
       "      <th>loan_status</th>\n",
       "      <th>pymnt_plan</th>\n",
       "      <th>dti</th>\n",
       "      <th>delinq_2yrs</th>\n",
       "      <th>inq_last_6mths</th>\n",
       "      <th>open_acc</th>\n",
       "      <th>...</th>\n",
       "      <th>title_Moving and relocation</th>\n",
       "      <th>title_Other</th>\n",
       "      <th>title_Vacation</th>\n",
       "      <th>title_unknown</th>\n",
       "      <th>initial_list_status_f</th>\n",
       "      <th>initial_list_status_w</th>\n",
       "      <th>application_type_Individual</th>\n",
       "      <th>application_type_Joint App</th>\n",
       "      <th>disbursement_method_Cash</th>\n",
       "      <th>disbursement_method_DirectPay</th>\n",
       "    </tr>\n",
       "  </thead>\n",
       "  <tbody>\n",
       "    <tr>\n",
       "      <th>0</th>\n",
       "      <td>14400</td>\n",
       "      <td>7.99</td>\n",
       "      <td>9</td>\n",
       "      <td>135000.0</td>\n",
       "      <td>1.0</td>\n",
       "      <td>0</td>\n",
       "      <td>6.60</td>\n",
       "      <td>1</td>\n",
       "      <td>0</td>\n",
       "      <td>15</td>\n",
       "      <td>...</td>\n",
       "      <td>0</td>\n",
       "      <td>0</td>\n",
       "      <td>0</td>\n",
       "      <td>0</td>\n",
       "      <td>0</td>\n",
       "      <td>1</td>\n",
       "      <td>1</td>\n",
       "      <td>0</td>\n",
       "      <td>1</td>\n",
       "      <td>0</td>\n",
       "    </tr>\n",
       "    <tr>\n",
       "      <th>1</th>\n",
       "      <td>4500</td>\n",
       "      <td>12.74</td>\n",
       "      <td>6</td>\n",
       "      <td>32000.0</td>\n",
       "      <td>1.0</td>\n",
       "      <td>0</td>\n",
       "      <td>29.93</td>\n",
       "      <td>0</td>\n",
       "      <td>1</td>\n",
       "      <td>7</td>\n",
       "      <td>...</td>\n",
       "      <td>0</td>\n",
       "      <td>0</td>\n",
       "      <td>0</td>\n",
       "      <td>0</td>\n",
       "      <td>0</td>\n",
       "      <td>1</td>\n",
       "      <td>1</td>\n",
       "      <td>0</td>\n",
       "      <td>1</td>\n",
       "      <td>0</td>\n",
       "    </tr>\n",
       "    <tr>\n",
       "      <th>2</th>\n",
       "      <td>3600</td>\n",
       "      <td>11.39</td>\n",
       "      <td>10</td>\n",
       "      <td>89712.0</td>\n",
       "      <td>1.0</td>\n",
       "      <td>0</td>\n",
       "      <td>20.30</td>\n",
       "      <td>0</td>\n",
       "      <td>0</td>\n",
       "      <td>16</td>\n",
       "      <td>...</td>\n",
       "      <td>0</td>\n",
       "      <td>0</td>\n",
       "      <td>0</td>\n",
       "      <td>0</td>\n",
       "      <td>1</td>\n",
       "      <td>0</td>\n",
       "      <td>1</td>\n",
       "      <td>0</td>\n",
       "      <td>1</td>\n",
       "      <td>0</td>\n",
       "    </tr>\n",
       "    <tr>\n",
       "      <th>3</th>\n",
       "      <td>7000</td>\n",
       "      <td>5.32</td>\n",
       "      <td>2</td>\n",
       "      <td>85000.0</td>\n",
       "      <td>1.0</td>\n",
       "      <td>0</td>\n",
       "      <td>12.80</td>\n",
       "      <td>1</td>\n",
       "      <td>0</td>\n",
       "      <td>14</td>\n",
       "      <td>...</td>\n",
       "      <td>0</td>\n",
       "      <td>0</td>\n",
       "      <td>0</td>\n",
       "      <td>0</td>\n",
       "      <td>0</td>\n",
       "      <td>1</td>\n",
       "      <td>1</td>\n",
       "      <td>0</td>\n",
       "      <td>1</td>\n",
       "      <td>0</td>\n",
       "    </tr>\n",
       "    <tr>\n",
       "      <th>4</th>\n",
       "      <td>12000</td>\n",
       "      <td>16.99</td>\n",
       "      <td>0</td>\n",
       "      <td>30000.0</td>\n",
       "      <td>1.0</td>\n",
       "      <td>0</td>\n",
       "      <td>9.26</td>\n",
       "      <td>0</td>\n",
       "      <td>0</td>\n",
       "      <td>3</td>\n",
       "      <td>...</td>\n",
       "      <td>0</td>\n",
       "      <td>0</td>\n",
       "      <td>0</td>\n",
       "      <td>0</td>\n",
       "      <td>0</td>\n",
       "      <td>1</td>\n",
       "      <td>1</td>\n",
       "      <td>0</td>\n",
       "      <td>1</td>\n",
       "      <td>0</td>\n",
       "    </tr>\n",
       "  </tbody>\n",
       "</table>\n",
       "<p>5 rows × 104 columns</p>\n",
       "</div>"
      ],
      "text/plain": [
       "   loan_amnt  int_rate  emp_length  annual_inc  loan_status  pymnt_plan  \\\n",
       "0      14400      7.99           9    135000.0          1.0           0   \n",
       "1       4500     12.74           6     32000.0          1.0           0   \n",
       "2       3600     11.39          10     89712.0          1.0           0   \n",
       "3       7000      5.32           2     85000.0          1.0           0   \n",
       "4      12000     16.99           0     30000.0          1.0           0   \n",
       "\n",
       "     dti  delinq_2yrs  inq_last_6mths  open_acc  \\\n",
       "0   6.60            1               0        15   \n",
       "1  29.93            0               1         7   \n",
       "2  20.30            0               0        16   \n",
       "3  12.80            1               0        14   \n",
       "4   9.26            0               0         3   \n",
       "\n",
       "               ...                title_Moving and relocation  title_Other  \\\n",
       "0              ...                                          0            0   \n",
       "1              ...                                          0            0   \n",
       "2              ...                                          0            0   \n",
       "3              ...                                          0            0   \n",
       "4              ...                                          0            0   \n",
       "\n",
       "   title_Vacation  title_unknown  initial_list_status_f  \\\n",
       "0               0              0                      0   \n",
       "1               0              0                      0   \n",
       "2               0              0                      1   \n",
       "3               0              0                      0   \n",
       "4               0              0                      0   \n",
       "\n",
       "   initial_list_status_w  application_type_Individual  \\\n",
       "0                      1                            1   \n",
       "1                      1                            1   \n",
       "2                      0                            1   \n",
       "3                      1                            1   \n",
       "4                      1                            1   \n",
       "\n",
       "   application_type_Joint App  disbursement_method_Cash  \\\n",
       "0                           0                         1   \n",
       "1                           0                         1   \n",
       "2                           0                         1   \n",
       "3                           0                         1   \n",
       "4                           0                         1   \n",
       "\n",
       "   disbursement_method_DirectPay  \n",
       "0                              0  \n",
       "1                              0  \n",
       "2                              0  \n",
       "3                              0  \n",
       "4                              0  \n",
       "\n",
       "[5 rows x 104 columns]"
      ]
     },
     "execution_count": 2,
     "metadata": {},
     "output_type": "execute_result"
    }
   ],
   "source": [
    "df = pd.read_csv('./LoanStats.csv', encoding='utf-8')\n",
    "df.head()"
   ]
  },
  {
   "cell_type": "code",
   "execution_count": 3,
   "metadata": {
    "collapsed": true
   },
   "outputs": [],
   "source": [
    "df.fillna(0.0, inplace=True)\n",
    "df.fillna(0, inplace=True)"
   ]
  },
  {
   "cell_type": "code",
   "execution_count": 4,
   "metadata": {
    "scrolled": true
   },
   "outputs": [
    {
     "data": {
      "text/html": [
       "<div>\n",
       "<style>\n",
       "    .dataframe thead tr:only-child th {\n",
       "        text-align: right;\n",
       "    }\n",
       "\n",
       "    .dataframe thead th {\n",
       "        text-align: left;\n",
       "    }\n",
       "\n",
       "    .dataframe tbody tr th {\n",
       "        vertical-align: top;\n",
       "    }\n",
       "</style>\n",
       "<table border=\"1\" class=\"dataframe\">\n",
       "  <thead>\n",
       "    <tr style=\"text-align: right;\">\n",
       "      <th></th>\n",
       "      <th>loan_amnt</th>\n",
       "      <th>int_rate</th>\n",
       "      <th>emp_length</th>\n",
       "      <th>annual_inc</th>\n",
       "      <th>loan_status</th>\n",
       "      <th>pymnt_plan</th>\n",
       "      <th>dti</th>\n",
       "      <th>delinq_2yrs</th>\n",
       "      <th>inq_last_6mths</th>\n",
       "      <th>open_acc</th>\n",
       "      <th>...</th>\n",
       "      <th>title_Moving and relocation</th>\n",
       "      <th>title_Other</th>\n",
       "      <th>title_Vacation</th>\n",
       "      <th>title_unknown</th>\n",
       "      <th>initial_list_status_f</th>\n",
       "      <th>initial_list_status_w</th>\n",
       "      <th>application_type_Individual</th>\n",
       "      <th>application_type_Joint App</th>\n",
       "      <th>disbursement_method_Cash</th>\n",
       "      <th>disbursement_method_DirectPay</th>\n",
       "    </tr>\n",
       "  </thead>\n",
       "  <tbody>\n",
       "    <tr>\n",
       "      <th>0</th>\n",
       "      <td>0.343590</td>\n",
       "      <td>0.104012</td>\n",
       "      <td>0.9</td>\n",
       "      <td>0.001227</td>\n",
       "      <td>1.0</td>\n",
       "      <td>0.0</td>\n",
       "      <td>0.00760</td>\n",
       "      <td>0.02381</td>\n",
       "      <td>0.0</td>\n",
       "      <td>0.154639</td>\n",
       "      <td>...</td>\n",
       "      <td>0.0</td>\n",
       "      <td>0.0</td>\n",
       "      <td>0.0</td>\n",
       "      <td>0.0</td>\n",
       "      <td>0.0</td>\n",
       "      <td>1.0</td>\n",
       "      <td>1.0</td>\n",
       "      <td>0.0</td>\n",
       "      <td>1.0</td>\n",
       "      <td>0.0</td>\n",
       "    </tr>\n",
       "    <tr>\n",
       "      <th>1</th>\n",
       "      <td>0.089744</td>\n",
       "      <td>0.289053</td>\n",
       "      <td>0.6</td>\n",
       "      <td>0.000291</td>\n",
       "      <td>1.0</td>\n",
       "      <td>0.0</td>\n",
       "      <td>0.03093</td>\n",
       "      <td>0.00000</td>\n",
       "      <td>0.2</td>\n",
       "      <td>0.072165</td>\n",
       "      <td>...</td>\n",
       "      <td>0.0</td>\n",
       "      <td>0.0</td>\n",
       "      <td>0.0</td>\n",
       "      <td>0.0</td>\n",
       "      <td>0.0</td>\n",
       "      <td>1.0</td>\n",
       "      <td>1.0</td>\n",
       "      <td>0.0</td>\n",
       "      <td>1.0</td>\n",
       "      <td>0.0</td>\n",
       "    </tr>\n",
       "    <tr>\n",
       "      <th>2</th>\n",
       "      <td>0.066667</td>\n",
       "      <td>0.236463</td>\n",
       "      <td>1.0</td>\n",
       "      <td>0.000816</td>\n",
       "      <td>1.0</td>\n",
       "      <td>0.0</td>\n",
       "      <td>0.02130</td>\n",
       "      <td>0.00000</td>\n",
       "      <td>0.0</td>\n",
       "      <td>0.164948</td>\n",
       "      <td>...</td>\n",
       "      <td>0.0</td>\n",
       "      <td>0.0</td>\n",
       "      <td>0.0</td>\n",
       "      <td>0.0</td>\n",
       "      <td>1.0</td>\n",
       "      <td>0.0</td>\n",
       "      <td>1.0</td>\n",
       "      <td>0.0</td>\n",
       "      <td>1.0</td>\n",
       "      <td>0.0</td>\n",
       "    </tr>\n",
       "    <tr>\n",
       "      <th>3</th>\n",
       "      <td>0.153846</td>\n",
       "      <td>0.000000</td>\n",
       "      <td>0.2</td>\n",
       "      <td>0.000773</td>\n",
       "      <td>1.0</td>\n",
       "      <td>0.0</td>\n",
       "      <td>0.01380</td>\n",
       "      <td>0.02381</td>\n",
       "      <td>0.0</td>\n",
       "      <td>0.144330</td>\n",
       "      <td>...</td>\n",
       "      <td>0.0</td>\n",
       "      <td>0.0</td>\n",
       "      <td>0.0</td>\n",
       "      <td>0.0</td>\n",
       "      <td>0.0</td>\n",
       "      <td>1.0</td>\n",
       "      <td>1.0</td>\n",
       "      <td>0.0</td>\n",
       "      <td>1.0</td>\n",
       "      <td>0.0</td>\n",
       "    </tr>\n",
       "    <tr>\n",
       "      <th>4</th>\n",
       "      <td>0.282051</td>\n",
       "      <td>0.454616</td>\n",
       "      <td>0.0</td>\n",
       "      <td>0.000273</td>\n",
       "      <td>1.0</td>\n",
       "      <td>0.0</td>\n",
       "      <td>0.01026</td>\n",
       "      <td>0.00000</td>\n",
       "      <td>0.0</td>\n",
       "      <td>0.030928</td>\n",
       "      <td>...</td>\n",
       "      <td>0.0</td>\n",
       "      <td>0.0</td>\n",
       "      <td>0.0</td>\n",
       "      <td>0.0</td>\n",
       "      <td>0.0</td>\n",
       "      <td>1.0</td>\n",
       "      <td>1.0</td>\n",
       "      <td>0.0</td>\n",
       "      <td>1.0</td>\n",
       "      <td>0.0</td>\n",
       "    </tr>\n",
       "  </tbody>\n",
       "</table>\n",
       "<p>5 rows × 104 columns</p>\n",
       "</div>"
      ],
      "text/plain": [
       "   loan_amnt  int_rate  emp_length  annual_inc  loan_status  pymnt_plan  \\\n",
       "0   0.343590  0.104012         0.9    0.001227          1.0         0.0   \n",
       "1   0.089744  0.289053         0.6    0.000291          1.0         0.0   \n",
       "2   0.066667  0.236463         1.0    0.000816          1.0         0.0   \n",
       "3   0.153846  0.000000         0.2    0.000773          1.0         0.0   \n",
       "4   0.282051  0.454616         0.0    0.000273          1.0         0.0   \n",
       "\n",
       "       dti  delinq_2yrs  inq_last_6mths  open_acc  \\\n",
       "0  0.00760      0.02381             0.0  0.154639   \n",
       "1  0.03093      0.00000             0.2  0.072165   \n",
       "2  0.02130      0.00000             0.0  0.164948   \n",
       "3  0.01380      0.02381             0.0  0.144330   \n",
       "4  0.01026      0.00000             0.0  0.030928   \n",
       "\n",
       "               ...                title_Moving and relocation  title_Other  \\\n",
       "0              ...                                        0.0          0.0   \n",
       "1              ...                                        0.0          0.0   \n",
       "2              ...                                        0.0          0.0   \n",
       "3              ...                                        0.0          0.0   \n",
       "4              ...                                        0.0          0.0   \n",
       "\n",
       "   title_Vacation  title_unknown  initial_list_status_f  \\\n",
       "0             0.0            0.0                    0.0   \n",
       "1             0.0            0.0                    0.0   \n",
       "2             0.0            0.0                    1.0   \n",
       "3             0.0            0.0                    0.0   \n",
       "4             0.0            0.0                    0.0   \n",
       "\n",
       "   initial_list_status_w  application_type_Individual  \\\n",
       "0                    1.0                          1.0   \n",
       "1                    1.0                          1.0   \n",
       "2                    0.0                          1.0   \n",
       "3                    1.0                          1.0   \n",
       "4                    1.0                          1.0   \n",
       "\n",
       "   application_type_Joint App  disbursement_method_Cash  \\\n",
       "0                         0.0                       1.0   \n",
       "1                         0.0                       1.0   \n",
       "2                         0.0                       1.0   \n",
       "3                         0.0                       1.0   \n",
       "4                         0.0                       1.0   \n",
       "\n",
       "   disbursement_method_DirectPay  \n",
       "0                            0.0  \n",
       "1                            0.0  \n",
       "2                            0.0  \n",
       "3                            0.0  \n",
       "4                            0.0  \n",
       "\n",
       "[5 rows x 104 columns]"
      ]
     },
     "execution_count": 4,
     "metadata": {},
     "output_type": "execute_result"
    }
   ],
   "source": [
    "# 0-1标准化\n",
    "df = (df - df.min()) / (df.max() - df.min())\n",
    "df.head()"
   ]
  },
  {
   "cell_type": "markdown",
   "metadata": {
    "collapsed": true
   },
   "source": [
    "#处理数据不平衡问题\n",
    "negative_df = df[df.loan_status == 0]\n",
    "positive_df = df[df.loan_status == 1]"
   ]
  },
  {
   "cell_type": "markdown",
   "metadata": {},
   "source": [
    "len(negative_df)"
   ]
  },
  {
   "cell_type": "markdown",
   "metadata": {},
   "source": [
    "len(positive_df)"
   ]
  },
  {
   "cell_type": "markdown",
   "metadata": {
    "collapsed": true
   },
   "source": [
    "#由于负样本只有正样本的3%，所对正样本进行降采样，对负样本进行过采样\n",
    "positive_df = positive_df.sample(frac=0.06, random_state=1)"
   ]
  },
  {
   "cell_type": "markdown",
   "metadata": {
    "collapsed": true
   },
   "source": [
    "df = pd.concat([negative_df, positive_df, negative_df], axis=0)"
   ]
  },
  {
   "cell_type": "code",
   "execution_count": 5,
   "metadata": {},
   "outputs": [
    {
     "data": {
      "text/plain": [
       "417345"
      ]
     },
     "execution_count": 5,
     "metadata": {},
     "output_type": "execute_result"
    }
   ],
   "source": [
    "len(df)"
   ]
  },
  {
   "cell_type": "code",
   "execution_count": 6,
   "metadata": {
    "collapsed": true
   },
   "outputs": [],
   "source": [
    "df = df.sample(frac=1, random_state=1)\n",
    "df = df.reset_index(drop=True)"
   ]
  },
  {
   "cell_type": "code",
   "execution_count": 7,
   "metadata": {
    "collapsed": true
   },
   "outputs": [],
   "source": [
    "Y = df.loan_status\n",
    "X = df.drop('loan_status', axis=1, inplace=False)"
   ]
  },
  {
   "cell_type": "code",
   "execution_count": 8,
   "metadata": {},
   "outputs": [
    {
     "data": {
      "text/plain": [
       "(417345,)"
      ]
     },
     "execution_count": 8,
     "metadata": {},
     "output_type": "execute_result"
    }
   ],
   "source": [
    "Y.shape"
   ]
  },
  {
   "cell_type": "code",
   "execution_count": 9,
   "metadata": {},
   "outputs": [
    {
     "data": {
      "text/plain": [
       "1.0    407615\n",
       "0.0      9730\n",
       "Name: loan_status, dtype: int64"
      ]
     },
     "execution_count": 9,
     "metadata": {},
     "output_type": "execute_result"
    }
   ],
   "source": [
    "Y.value_counts()"
   ]
  },
  {
   "cell_type": "code",
   "execution_count": 10,
   "metadata": {},
   "outputs": [
    {
     "data": {
      "text/plain": [
       "(417345, 103)"
      ]
     },
     "execution_count": 10,
     "metadata": {},
     "output_type": "execute_result"
    }
   ],
   "source": [
    "X.shape"
   ]
  },
  {
   "cell_type": "code",
   "execution_count": 11,
   "metadata": {
    "collapsed": true
   },
   "outputs": [],
   "source": [
    "X_train, X_test, y_train, y_test = train_test_split(X, Y, test_size=0.3, random_state=1)"
   ]
  },
  {
   "cell_type": "markdown",
   "metadata": {
    "collapsed": true
   },
   "source": [
    "## Xgboost分类模型"
   ]
  },
  {
   "cell_type": "markdown",
   "metadata": {
    "collapsed": true
   },
   "source": [
    "param_grid = { 'n_estimators':[150, 200], 'max_depth':[11, 13], 'learning_rate':[0.1, 0.15, 0.2],\n",
    "              'reg_alpha':[0.5, 1], 'reg_lambda':[0.5, 1]\n",
    "}"
   ]
  },
  {
   "cell_type": "markdown",
   "metadata": {
    "collapsed": true
   },
   "source": [
    "est = GridSearchCV(xgb.XGBRegressor(subsample=0.8, silent=True, seed=0,objective='binary:logistic', gamma=0, missing=None, \n",
    "                                    colsample_bytree=0.3,scale_pos_weight=1, min_child_weight=1, max_delta_step=0, base_socre=0.5), \n",
    "                   param_grid, refit=True)\n",
    "est.fit(X_train, y_train, eval_metric='auc', verbose=True, eval_set=[(X_test, y_test)], early_stopping_rounds=1000)\n",
    "best_params = est.best_params_\n",
    "best_params\n",
    "'''\n",
    "{'learning_rate': 0.1,\n",
    " 'max_depth': 13,\n",
    " 'n_estimators': 200,\n",
    " 'reg_alpha': 0.5,\n",
    " 'reg_lambda': 1}\n",
    "\n",
    "'''"
   ]
  },
  {
   "cell_type": "code",
   "execution_count": 24,
   "metadata": {
    "collapsed": true
   },
   "outputs": [],
   "source": [
    "# 根据GridSearchCV选出的最优模型参数再训练一次模型\n",
    "# 经过多次尝试，最好的模型参数如下\n",
    "clf = xgb.XGBClassifier(n_estimators=300, max_depth=13, learning_rate=0.15, subsample=0.8, silent=True, seed=1,\n",
    "                           objective='binary:logistic', reg_alpha=0.5, reg_lambda=1, gamma=0, missing=None, colsample_bytree=0.3,\n",
    "                       scale_pos_weight=1, min_child_weight=1, max_delta_step=0, base_socre=0.5)\n",
    "#scale_pos_weight: 是用来调节正负样本不均衡问题的，用助于样本不平衡时训练的收敛。 "
   ]
  },
  {
   "cell_type": "code",
   "execution_count": 25,
   "metadata": {
    "scrolled": true
   },
   "outputs": [
    {
     "name": "stdout",
     "output_type": "stream",
     "text": [
      "[0]\tvalidation_0-auc:0.612585\n",
      "Will train until validation_0-auc hasn't improved in 100 rounds.\n",
      "[1]\tvalidation_0-auc:0.695475\n",
      "[2]\tvalidation_0-auc:0.719182\n",
      "[3]\tvalidation_0-auc:0.770715\n",
      "[4]\tvalidation_0-auc:0.784238\n",
      "[5]\tvalidation_0-auc:0.78699\n",
      "[6]\tvalidation_0-auc:0.785371\n",
      "[7]\tvalidation_0-auc:0.789306\n",
      "[8]\tvalidation_0-auc:0.789539\n",
      "[9]\tvalidation_0-auc:0.789408\n",
      "[10]\tvalidation_0-auc:0.79491\n",
      "[11]\tvalidation_0-auc:0.79636\n",
      "[12]\tvalidation_0-auc:0.79962\n",
      "[13]\tvalidation_0-auc:0.795243\n",
      "[14]\tvalidation_0-auc:0.792566\n",
      "[15]\tvalidation_0-auc:0.790056\n",
      "[16]\tvalidation_0-auc:0.792494\n",
      "[17]\tvalidation_0-auc:0.789945\n",
      "[18]\tvalidation_0-auc:0.792797\n",
      "[19]\tvalidation_0-auc:0.791997\n",
      "[20]\tvalidation_0-auc:0.792074\n",
      "[21]\tvalidation_0-auc:0.790636\n",
      "[22]\tvalidation_0-auc:0.792543\n",
      "[23]\tvalidation_0-auc:0.795149\n",
      "[24]\tvalidation_0-auc:0.79581\n",
      "[25]\tvalidation_0-auc:0.798761\n",
      "[26]\tvalidation_0-auc:0.800192\n",
      "[27]\tvalidation_0-auc:0.797179\n",
      "[28]\tvalidation_0-auc:0.802993\n",
      "[29]\tvalidation_0-auc:0.811379\n",
      "[30]\tvalidation_0-auc:0.811692\n",
      "[31]\tvalidation_0-auc:0.820059\n",
      "[32]\tvalidation_0-auc:0.822416\n",
      "[33]\tvalidation_0-auc:0.823367\n",
      "[34]\tvalidation_0-auc:0.82344\n",
      "[35]\tvalidation_0-auc:0.822483\n",
      "[36]\tvalidation_0-auc:0.82258\n",
      "[37]\tvalidation_0-auc:0.825088\n",
      "[38]\tvalidation_0-auc:0.824156\n",
      "[39]\tvalidation_0-auc:0.827424\n",
      "[40]\tvalidation_0-auc:0.828012\n",
      "[41]\tvalidation_0-auc:0.828045\n",
      "[42]\tvalidation_0-auc:0.830309\n",
      "[43]\tvalidation_0-auc:0.829998\n",
      "[44]\tvalidation_0-auc:0.829981\n",
      "[45]\tvalidation_0-auc:0.828917\n",
      "[46]\tvalidation_0-auc:0.829075\n",
      "[47]\tvalidation_0-auc:0.828965\n",
      "[48]\tvalidation_0-auc:0.829157\n",
      "[49]\tvalidation_0-auc:0.829161\n",
      "[50]\tvalidation_0-auc:0.828698\n",
      "[51]\tvalidation_0-auc:0.828443\n",
      "[52]\tvalidation_0-auc:0.82948\n",
      "[53]\tvalidation_0-auc:0.829347\n",
      "[54]\tvalidation_0-auc:0.829313\n",
      "[55]\tvalidation_0-auc:0.829423\n",
      "[56]\tvalidation_0-auc:0.829531\n",
      "[57]\tvalidation_0-auc:0.829591\n",
      "[58]\tvalidation_0-auc:0.830298\n",
      "[59]\tvalidation_0-auc:0.830539\n",
      "[60]\tvalidation_0-auc:0.830853\n",
      "[61]\tvalidation_0-auc:0.830601\n",
      "[62]\tvalidation_0-auc:0.831024\n",
      "[63]\tvalidation_0-auc:0.832042\n",
      "[64]\tvalidation_0-auc:0.831791\n",
      "[65]\tvalidation_0-auc:0.831574\n",
      "[66]\tvalidation_0-auc:0.83121\n",
      "[67]\tvalidation_0-auc:0.831455\n",
      "[68]\tvalidation_0-auc:0.831766\n",
      "[69]\tvalidation_0-auc:0.83124\n",
      "[70]\tvalidation_0-auc:0.831665\n",
      "[71]\tvalidation_0-auc:0.832115\n",
      "[72]\tvalidation_0-auc:0.833232\n",
      "[73]\tvalidation_0-auc:0.833102\n",
      "[74]\tvalidation_0-auc:0.833433\n",
      "[75]\tvalidation_0-auc:0.833598\n",
      "[76]\tvalidation_0-auc:0.83347\n",
      "[77]\tvalidation_0-auc:0.83326\n",
      "[78]\tvalidation_0-auc:0.833022\n",
      "[79]\tvalidation_0-auc:0.832899\n",
      "[80]\tvalidation_0-auc:0.833633\n",
      "[81]\tvalidation_0-auc:0.833343\n",
      "[82]\tvalidation_0-auc:0.83283\n",
      "[83]\tvalidation_0-auc:0.832494\n",
      "[84]\tvalidation_0-auc:0.832423\n",
      "[85]\tvalidation_0-auc:0.83223\n",
      "[86]\tvalidation_0-auc:0.832649\n",
      "[87]\tvalidation_0-auc:0.832316\n",
      "[88]\tvalidation_0-auc:0.832933\n",
      "[89]\tvalidation_0-auc:0.832464\n",
      "[90]\tvalidation_0-auc:0.832441\n",
      "[91]\tvalidation_0-auc:0.83279\n",
      "[92]\tvalidation_0-auc:0.834107\n",
      "[93]\tvalidation_0-auc:0.834172\n",
      "[94]\tvalidation_0-auc:0.834149\n",
      "[95]\tvalidation_0-auc:0.834024\n",
      "[96]\tvalidation_0-auc:0.834056\n",
      "[97]\tvalidation_0-auc:0.833671\n",
      "[98]\tvalidation_0-auc:0.833531\n",
      "[99]\tvalidation_0-auc:0.8333\n",
      "[100]\tvalidation_0-auc:0.833474\n",
      "[101]\tvalidation_0-auc:0.832466\n",
      "[102]\tvalidation_0-auc:0.832496\n",
      "[103]\tvalidation_0-auc:0.832678\n",
      "[104]\tvalidation_0-auc:0.832637\n",
      "[105]\tvalidation_0-auc:0.832553\n",
      "[106]\tvalidation_0-auc:0.832385\n",
      "[107]\tvalidation_0-auc:0.832112\n",
      "[108]\tvalidation_0-auc:0.832096\n",
      "[109]\tvalidation_0-auc:0.831734\n",
      "[110]\tvalidation_0-auc:0.832449\n",
      "[111]\tvalidation_0-auc:0.832019\n",
      "[112]\tvalidation_0-auc:0.831522\n",
      "[113]\tvalidation_0-auc:0.831123\n",
      "[114]\tvalidation_0-auc:0.830968\n",
      "[115]\tvalidation_0-auc:0.831696\n",
      "[116]\tvalidation_0-auc:0.831481\n",
      "[117]\tvalidation_0-auc:0.831429\n",
      "[118]\tvalidation_0-auc:0.831348\n",
      "[119]\tvalidation_0-auc:0.831248\n",
      "[120]\tvalidation_0-auc:0.831236\n",
      "[121]\tvalidation_0-auc:0.83113\n",
      "[122]\tvalidation_0-auc:0.830811\n",
      "[123]\tvalidation_0-auc:0.831285\n",
      "[124]\tvalidation_0-auc:0.831468\n",
      "[125]\tvalidation_0-auc:0.831906\n",
      "[126]\tvalidation_0-auc:0.831881\n",
      "[127]\tvalidation_0-auc:0.831456\n",
      "[128]\tvalidation_0-auc:0.831275\n",
      "[129]\tvalidation_0-auc:0.831089\n",
      "[130]\tvalidation_0-auc:0.830857\n",
      "[131]\tvalidation_0-auc:0.83086\n",
      "[132]\tvalidation_0-auc:0.830866\n",
      "[133]\tvalidation_0-auc:0.8307\n",
      "[134]\tvalidation_0-auc:0.830755\n",
      "[135]\tvalidation_0-auc:0.830745\n",
      "[136]\tvalidation_0-auc:0.830639\n",
      "[137]\tvalidation_0-auc:0.830262\n",
      "[138]\tvalidation_0-auc:0.829967\n",
      "[139]\tvalidation_0-auc:0.829846\n",
      "[140]\tvalidation_0-auc:0.829876\n",
      "[141]\tvalidation_0-auc:0.829862\n",
      "[142]\tvalidation_0-auc:0.829664\n",
      "[143]\tvalidation_0-auc:0.829433\n",
      "[144]\tvalidation_0-auc:0.82927\n",
      "[145]\tvalidation_0-auc:0.829666\n",
      "[146]\tvalidation_0-auc:0.829571\n",
      "[147]\tvalidation_0-auc:0.829667\n",
      "[148]\tvalidation_0-auc:0.82975\n",
      "[149]\tvalidation_0-auc:0.829915\n",
      "[150]\tvalidation_0-auc:0.829705\n",
      "[151]\tvalidation_0-auc:0.829715\n",
      "[152]\tvalidation_0-auc:0.829704\n",
      "[153]\tvalidation_0-auc:0.829559\n",
      "[154]\tvalidation_0-auc:0.82939\n",
      "[155]\tvalidation_0-auc:0.829232\n",
      "[156]\tvalidation_0-auc:0.829061\n",
      "[157]\tvalidation_0-auc:0.828807\n",
      "[158]\tvalidation_0-auc:0.828608\n",
      "[159]\tvalidation_0-auc:0.828674\n",
      "[160]\tvalidation_0-auc:0.828659\n",
      "[161]\tvalidation_0-auc:0.828973\n",
      "[162]\tvalidation_0-auc:0.828826\n",
      "[163]\tvalidation_0-auc:0.828389\n",
      "[164]\tvalidation_0-auc:0.828513\n",
      "[165]\tvalidation_0-auc:0.828775\n",
      "[166]\tvalidation_0-auc:0.828664\n",
      "[167]\tvalidation_0-auc:0.8288\n",
      "[168]\tvalidation_0-auc:0.829377\n",
      "[169]\tvalidation_0-auc:0.829137\n",
      "[170]\tvalidation_0-auc:0.829305\n",
      "[171]\tvalidation_0-auc:0.829295\n",
      "[172]\tvalidation_0-auc:0.829665\n",
      "[173]\tvalidation_0-auc:0.829424\n",
      "[174]\tvalidation_0-auc:0.829154\n",
      "[175]\tvalidation_0-auc:0.829048\n",
      "[176]\tvalidation_0-auc:0.82922\n",
      "[177]\tvalidation_0-auc:0.829356\n",
      "[178]\tvalidation_0-auc:0.829233\n",
      "[179]\tvalidation_0-auc:0.829103\n",
      "[180]\tvalidation_0-auc:0.828879\n",
      "[181]\tvalidation_0-auc:0.828748\n",
      "[182]\tvalidation_0-auc:0.829368\n",
      "[183]\tvalidation_0-auc:0.829265\n",
      "[184]\tvalidation_0-auc:0.829383\n",
      "[185]\tvalidation_0-auc:0.829509\n",
      "[186]\tvalidation_0-auc:0.829435\n",
      "[187]\tvalidation_0-auc:0.829376\n",
      "[188]\tvalidation_0-auc:0.829215\n",
      "[189]\tvalidation_0-auc:0.828867\n",
      "[190]\tvalidation_0-auc:0.828958\n",
      "[191]\tvalidation_0-auc:0.828633\n",
      "[192]\tvalidation_0-auc:0.828559\n",
      "[193]\tvalidation_0-auc:0.8287\n",
      "Stopping. Best iteration:\n",
      "[93]\tvalidation_0-auc:0.834172\n",
      "\n"
     ]
    },
    {
     "data": {
      "text/plain": [
       "0.9785304886230759"
      ]
     },
     "execution_count": 25,
     "metadata": {},
     "output_type": "execute_result"
    }
   ],
   "source": [
    "clf.fit(X_train, y_train, eval_metric='auc', verbose=True, eval_set=[(X_test, y_test)], early_stopping_rounds=100)\n",
    "clf.score(X_test, y_test)"
   ]
  },
  {
   "cell_type": "code",
   "execution_count": 14,
   "metadata": {},
   "outputs": [
    {
     "data": {
      "text/plain": [
       "Ks_2sampResult(statistic=0.02173253250694866, pvalue=3.932182228344816e-26)"
      ]
     },
     "execution_count": 14,
     "metadata": {},
     "output_type": "execute_result"
    }
   ],
   "source": [
    "# 计算KS值\n",
    "from scipy.stats import ks_2samp\n",
    "test_df = pd.DataFrame()\n",
    "test_df['prediction'] = clf.predict(X_test)\n",
    "test_df['label'] = np.array(y_test)\n",
    "ks_2samp(test_df.prediction, test_df.label)"
   ]
  },
  {
   "cell_type": "code",
   "execution_count": 15,
   "metadata": {
    "collapsed": true
   },
   "outputs": [],
   "source": [
    "feature_importances = clf.feature_importances_"
   ]
  },
  {
   "cell_type": "code",
   "execution_count": 16,
   "metadata": {},
   "outputs": [
    {
     "data": {
      "text/plain": [
       "array([45,  1, 57, 32, 26, 48, 28, 66, 40, 21, 43, 44,  3, 38, 33, 27, 10,\n",
       "       17, 11, 39,  5, 31, 13, 15, 14], dtype=int64)"
      ]
     },
     "execution_count": 16,
     "metadata": {},
     "output_type": "execute_result"
    }
   ],
   "source": [
    "indices = np.argsort(feature_importances)[-25:]\n",
    "indices"
   ]
  },
  {
   "cell_type": "code",
   "execution_count": 17,
   "metadata": {},
   "outputs": [
    {
     "data": {
      "image/png": "[encoded data removed]",
      "text/plain": [
       "<matplotlib.figure.Figure at 0x2815a2e10b8>"
      ]
     },
     "metadata": {},
     "output_type": "display_data"
    }
   ],
   "source": [
    "sns.set_style()\n",
    "fig = plt.figure(figsize=(15, 8))\n",
    "plt.barh(np.arange(25), feature_importances[indices], color='dodgerblue', alpha=0.5)\n",
    "plt.yticks(np.arange(25+0.5), np.array(X.columns)[indices])\n",
    "plt.xlabel('Relative importance')\n",
    "plt.title('Top 25 Important Features')\n",
    "plt.savefig('./Top 25 Important Features-.png')\n",
    "plt.show()"
   ]
  },
  {
   "cell_type": "markdown",
   "metadata": {},
   "source": [
    "## 进一步评估模型"
   ]
  },
  {
   "cell_type": "markdown",
   "metadata": {},
   "source": [
    "ROC(Receiver Operating Characteristic Curve):接受者操作特征曲线。\n",
    "ROC曲线及AUC系数主要用来检验模型对客户进行正确排序的能力。ROC曲线描述了在一定累计好客户比例下的累计坏客户的比例，模型的分辨能力越强，ROC曲线越往左上角靠近。AUC系数表示ROC曲线下方的面积。AUC系数越高，模型的风险区分能力越强。\n",
    "\n",
    "KS（Kolmogorov-Smirnov）检验:K－S检验主要是验证模型对违约对象的区分能力，通常是在模型预测全体样本的信用评分后，将全体样本按违约与非违约分为两部分，然后用KS统计量来检验这两组样本信用评分的分布是否有显著差异。\n",
    "\n",
    "\n",
    "ROC值一般在0.5-1.0之间。值越大表示模型判断准确性越高，即越接近1越好。ROC=0.5表示模型的预测能力与随机结果没有差别。\n",
    "KS值表示了模型将+和-区分开来的能力。值越大，模型的预测准确性越好。一般，KS>0.2即可认为模型有比较好的预测准确性。\n",
    "\n",
    "要弄明白ks值和auc值的关系首先要弄懂roc曲线和ks曲线是怎么画出来的。其实从某个角度上来讲ROC曲线和KS曲线是一回事，只是横纵坐标的取法不同而已。拿逻辑回归举例，模型训练完成之后每个样本都会得到一个类概率值（注意是类似的类），把样本按这个类概率值排序后分成10等份，每一份单独计算它的真正率和假正率，然后计算累计概率值，用真正率和假正率的累计做为坐标画出来的就是ROC曲线，用10等分做为横坐标，用真正率和假正率的累计值分别做为纵坐标就得到两个曲线，这就是KS曲线。AUC值就是ROC曲线下放的面积值，而ks值就是ks曲线中两条曲线之间的最大间隔距离。由于ks值能找出模型中差异最大的一个分段，因此适合用于cut_off，像评分卡这种就很适合用ks值来评估。但是ks值只能反映出哪个分段是区分最大的，而不能总体反映出所有分段的效果，因而AUC值更能胜任。"
   ]
  },
  {
   "cell_type": "code",
   "execution_count": 18,
   "metadata": {
    "collapsed": true,
    "scrolled": true
   },
   "outputs": [],
   "source": [
    "from sklearn.metrics import roc_curve, roc_auc_score, auc\n",
    "from sklearn.cross_validation import StratifiedKFold\n",
    "from scipy import interp"
   ]
  },
  {
   "cell_type": "code",
   "execution_count": 19,
   "metadata": {
    "collapsed": true
   },
   "outputs": [],
   "source": [
    "cv = StratifiedKFold(np.array(Y), n_folds=8)"
   ]
  },
  {
   "cell_type": "code",
   "execution_count": 20,
   "metadata": {
    "scrolled": false
   },
   "outputs": [
    {
     "data": {
      "image/png": "[encoded data removed]",
      "text/plain": [
       "<matplotlib.figure.Figure at 0x281437e3908>"
      ]
     },
     "metadata": {},
     "output_type": "display_data"
    }
   ],
   "source": [
    "tprs = []\n",
    "aucs = []\n",
    "mean_fpr = np.linspace(0, 1, 100)\n",
    "ks_values = []\n",
    "sns.set_style()\n",
    "fig = plt.figure(figsize=(16, 8))\n",
    "ax1 = fig.add_subplot(121)\n",
    "ax2 = fig.add_subplot(122)\n",
    "for i, (train, test) in enumerate(cv):\n",
    "    X_train = X.iloc[train,:]\n",
    "    y_train = Y[train]\n",
    "    X_test = X.iloc[test,:]\n",
    "    y_test = Y[test]\n",
    "    '''\n",
    "    xg_train = xgb.DMatrix(X_train, y_train)\n",
    "    xg_test = xgb.DMatrix(X_test, y_test)\n",
    "    param = {'n_estimator':200, 'max_depth':13, 'learning_rate':0.1, 'objective':'binary:logistic', 'reg_alpha':0.5, 'reg_lambda':1,'gamma':0,\n",
    "            'silent':1, 'missing':None, 'colsample_bytree':0.3, 'scale_pos_weight':1, 'min_child_weight':1, 'max_delta_step':0, \n",
    "             'base_socre':0.5, 'seed':1, 'subsample':0.8}\n",
    "    clf = xgb.train(param, xg_train, 30, [(xg_train, 'train'), (xg_test, 'test')], early_stopping_rounds=10)\n",
    "    y_predict = clf.predict(xg_test)\n",
    "    '''\n",
    "    clf = xgb.XGBClassifier(n_estimators=200, max_depth=13, learning_rate=0.1, subsample=0.8, silent=1, seed=1,\n",
    "                           objective='binary:logistic', reg_alpha=0.5, reg_lambda=1, gamma=0, missing=None, colsample_bytree=0.3,\n",
    "                       scale_pos_weight=1, min_child_weight=1, max_delta_step=0, base_socre=0.5)\n",
    "    clf.fit(X_train, y_train, eval_metric='auc', verbose=False, eval_set=[(X_test, y_test)], early_stopping_rounds=100)\n",
    "    y_predict = clf.predict_proba(X_test)[:,1]\n",
    "    fpr, tpr, thresholds = roc_curve(y_test, y_predict)\n",
    "    # ROC\n",
    "    tprs.append(interp(mean_fpr, fpr, tpr))\n",
    "    roc_auc = auc(fpr, tpr)\n",
    "    aucs.append(roc_auc)\n",
    "    ax1.plot(fpr, tpr, lw=1, label='ROC fold %d (area = %0.2f)' % (i, roc_auc))\n",
    "    # KS\n",
    "    ax2.plot(1-thresholds, fpr, lw=1, label='FPR fold %d'%(i))\n",
    "    ax2.plot(1-thresholds, tpr, lw=1, label='TPR fold %d'%(i))\n",
    "    ks_value = np.abs(fpr - tpr)\n",
    "    max_ks_value = np.max(ks_value)\n",
    "    ks_values.append(max_ks_value)\n",
    "# ROC    \n",
    "ax1.plot([0, 1], [0, 1], '--', color='red', label='luck')\n",
    "mean_tpr = np.mean(tprs, axis=0)\n",
    "mean_tpr[-1] = 1.0\n",
    "mean_auc = auc(mean_fpr, mean_tpr)\n",
    "std_auc = np.std(aucs)\n",
    "ax1.plot(mean_fpr, mean_tpr, color='b', label=r'Mean ROC (AUC = %0.2f $\\pm$ %0.2f)' % (mean_auc, std_auc), lw=2, alpha=.8)\n",
    "std_tpr = np.std(tprs, axis=0)\n",
    "tprs_upper = np.minimum(mean_tpr + std_tpr, 1)\n",
    "tprs_lower = np.maximum(mean_tpr - std_tpr, 0)\n",
    "ax1.fill_between(mean_fpr, tprs_lower, tprs_upper, color='grey', alpha=.2, label=r'$\\pm$ 1 std. dev.')\n",
    "ax1.plot(mean_fpr, mean_tpr, '-', label='Mean ROC (area = %0.2f)' % mean_auc, lw=2)\n",
    "ax1.set(title='Receive Operating Characteristic', xlabel='False Positive Rate', ylabel='True Positive Rate', \n",
    "        xlim=[-0.05, 1.05], ylim=[-0.05, 1.05])\n",
    "ax1.legend(loc='lower right')\n",
    "# KS\n",
    "ax2.set(title='K-S', xlabel='threshold', ylabel='FPR/TPR', xlim=[-0.05, 1.05], ylim=[-0.05, 1.05])\n",
    "ax2.legend(loc='lower right')\n",
    "\n",
    "plt.savefig('ROC&KS-.png')\n",
    "plt.show()"
   ]
  },
  {
   "cell_type": "code",
   "execution_count": 21,
   "metadata": {},
   "outputs": [
    {
     "data": {
      "text/plain": [
       "0.5184700896952773"
      ]
     },
     "execution_count": 21,
     "metadata": {},
     "output_type": "execute_result"
    }
   ],
   "source": [
    "mean_ks_value = np.mean(ks_values)\n",
    "mean_ks_value"
   ]
  },
  {
   "cell_type": "code",
   "execution_count": null,
   "metadata": {
    "collapsed": true,
    "scrolled": true
   },
   "outputs": [],
   "source": []
  },
  {
   "cell_type": "code",
   "execution_count": null,
   "metadata": {
    "collapsed": true
   },
   "outputs": [],
   "source": []
  }
 ],
 "metadata": {
  "kernelspec": {
   "display_name": "Python 3",
   "language": "python",
   "name": "python3"
  },
  "language_info": {
   "codemirror_mode": {
    "name": "ipython",
    "version": 3
   },
   "file_extension": ".py",
   "mimetype": "text/x-python",
   "name": "python",
   "nbconvert_exporter": "python",
   "pygments_lexer": "ipython3",
   "version": "3.6.3"
  }
 },
 "nbformat": 4,
 "nbformat_minor": 2
}
